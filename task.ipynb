{
 "cells": [
  {
   "cell_type": "code",
   "execution_count": 547,
   "metadata": {
    "scrolled": true
   },
   "outputs": [],
   "source": [
    "# !pip install -U pip setuptools wheel\n",
    "# !pip install -U spacy\n",
    "# !python -m spacy download en_core_web_sm\n",
    "import warnings\n",
    "warnings.filterwarnings('ignore')"
   ]
  },
  {
   "cell_type": "code",
   "execution_count": 528,
   "metadata": {},
   "outputs": [],
   "source": [
    "import docx2txt\n",
    "text = docx2txt.process(\"input.docx\")\n",
    "text = text.replace('\\n', '')\n",
    "# print(text)"
   ]
  },
  {
   "cell_type": "code",
   "execution_count": 529,
   "metadata": {
    "scrolled": true
   },
   "outputs": [],
   "source": [
    "import spacy\n",
    "from spacy.lang.en.stop_words import STOP_WORDS\n",
    "from string import punctuation"
   ]
  },
  {
   "cell_type": "code",
   "execution_count": 530,
   "metadata": {
    "scrolled": true
   },
   "outputs": [],
   "source": [
    "punctuation = punctuation + '\\n'"
   ]
  },
  {
   "cell_type": "code",
   "execution_count": 531,
   "metadata": {
    "scrolled": true
   },
   "outputs": [],
   "source": [
    "stopwords = list(STOP_WORDS)\n",
    "# print(stopwords)"
   ]
  },
  {
   "cell_type": "code",
   "execution_count": 532,
   "metadata": {
    "scrolled": true
   },
   "outputs": [],
   "source": [
    "nlp = spacy.load(\"en_core_web_sm\")\n",
    "doc = nlp(text)\n",
    "tokens = [token.text for token in doc]"
   ]
  },
  {
   "cell_type": "code",
   "execution_count": 533,
   "metadata": {
    "scrolled": true
   },
   "outputs": [],
   "source": [
    "word_frequencies = {}\n",
    "for word in doc:\n",
    "    if word.text.lower() not in stopwords:\n",
    "        if word.text.lower() not in punctuation:\n",
    "            if word.text not in word_frequencies.keys():\n",
    "                word_frequencies[word.text] = 1\n",
    "            else:\n",
    "                word_frequencies[word.text] += 1"
   ]
  },
  {
   "cell_type": "markdown",
   "metadata": {},
   "source": [
    "Normalization using maximum frequency"
   ]
  },
  {
   "cell_type": "code",
   "execution_count": 534,
   "metadata": {
    "scrolled": true
   },
   "outputs": [
    {
     "name": "stdout",
     "output_type": "stream",
     "text": [
      "37\n"
     ]
    }
   ],
   "source": [
    "max_frequency = max(word_frequencies.values())\n",
    "print(max_frequency)"
   ]
  },
  {
   "cell_type": "code",
   "execution_count": 535,
   "metadata": {
    "scrolled": true
   },
   "outputs": [],
   "source": [
    "for word in word_frequencies.keys():\n",
    "    word_frequencies[word] = word_frequencies[word] / max_frequency"
   ]
  },
  {
   "cell_type": "code",
   "execution_count": 536,
   "metadata": {
    "scrolled": true
   },
   "outputs": [
    {
     "name": "stdout",
     "output_type": "stream",
     "text": [
      "{'Yes': 0.21621621621621623, 'Gauri': 0.1891891891891892, 'tell': 0.08108108108108109, 'Okay': 0.5945945945945946, 'ahh': 0.21621621621621623, 'thank': 0.13513513513513514, 'allowing': 0.02702702702702703, 'introduce': 0.02702702702702703, 'shirmali': 0.02702702702702703, 'Udaipur': 0.05405405405405406, 'Rajasthan': 0.02702702702702703, 'computer': 0.05405405405405406, 'science': 0.02702702702702703, 'engineering': 0.05405405405405406, 'Geetanjali': 0.02702702702702703, 'Institute': 0.02702702702702703, 'technical': 0.24324324324324326, 'studies': 0.10810810810810811, 'secured': 0.02702702702702703, '9.2': 0.02702702702702703, 'c': 0.02702702702702703, 'GPA': 0.02702702702702703, '10': 0.05405405405405406, 'standard': 0.05405405405405406, '73.4': 0.02702702702702703, 'Cgp': 0.02702702702702703, 'percentage': 0.05405405405405406, '12': 0.08108108108108109, 'currently': 0.05405405405405406, 'aggregate': 0.02702702702702703, 'score': 0.02702702702702703, '77': 0.02702702702702703, 'sciences': 0.02702702702702703, 'omnipresent': 0.02702702702702703, 'present': 0.02702702702702703, 'field': 0.02702702702702703, 'invested': 0.02702702702702703, '3.5': 0.02702702702702703, 'years': 0.08108108108108109, 'developing': 0.02702702702702703, 'software': 0.10810810810810811, 'skills': 0.24324324324324326, 'include': 0.05405405405405406, 'programming': 0.08108108108108109, 'Python': 0.05405405405405406, 'Java': 0.05405405405405406, 'C': 0.08108108108108109, 'c++': 0.02702702702702703, 'databases': 0.02702702702702703, 'familiar': 0.02702702702702703, 'web': 0.02702702702702703, 'development': 0.02702702702702703, 'Kubernetes': 0.02702702702702703, 'Docker': 0.02702702702702703, 'Ansible': 0.02702702702702703, 'et': 0.02702702702702703, 'cetera': 0.02702702702702703, ' ': 0.2702702702702703, 'build': 0.02702702702702703, 'projects': 0.02702702702702703, 'user': 0.02702702702702703, 'management': 0.05405405405405406, 'project': 0.05405405405405406, 'attendance': 0.02702702702702703, 'participated': 0.05405405405405406, 'smart': 0.02702702702702703, 'India': 0.02702702702702703, 'hackathons': 0.02702702702702703, 'got': 0.16216216216216217, 'finals': 0.02702702702702703, 'Ahh': 0.02702702702702703, 'coming': 0.02702702702702703, 'extracurricular': 0.02702702702702703, 'activities': 0.02702702702702703, 'love': 0.02702702702702703, 'dance': 0.05405405405405406, 'umm': 0.05405405405405406, 'particularly': 0.02702702702702703, 'semi': 0.02702702702702703, 'classical': 0.02702702702702703, 'like': 0.6486486486486487, 'read': 0.02702702702702703, 'write': 0.08108108108108109, 'paint': 0.02702702702702703, 'student': 0.02702702702702703, 'editor': 0.02702702702702703, 'colleges': 0.02702702702702703, 'newsletter': 0.02702702702702703, 'bits': 0.02702702702702703, 'bytes': 0.02702702702702703, 'cultural': 0.02702702702702703, 'heads': 0.02702702702702703, 'students': 0.02702702702702703, 'club': 0.02702702702702703, 'donation': 0.05405405405405406, 'camps': 0.05405405405405406, 'member': 0.02702702702702703, 'Rotary': 0.02702702702702703, 'Club': 0.02702702702702703, 'consider': 0.05405405405405406, 'focused': 0.02702702702702703, 'person': 0.02702702702702703, 'work': 0.13513513513513514, 'goals': 0.02702702702702703, 'efficient': 0.02702702702702703, 'manner': 0.02702702702702703, 'team': 0.05405405405405406, 'player': 0.08108108108108109, 'optimistic': 0.02702702702702703, 'tough': 0.02702702702702703, 'times': 0.08108108108108109, 'lastly': 0.05405405405405406, 'start': 0.05405405405405406, 'journey': 0.02702702702702703, 'success': 0.08108108108108109, 'joining': 0.05405405405405406, 'TCS': 0.13513513513513514, 'Thank': 0.10810810810810811, 'specific': 0.02702702702702703, 'point': 0.08108108108108109, 'Tcs': 0.40540540540540543, 'makes': 0.02702702702702703, 'different': 0.05405405405405406, 'MNCs': 0.02702702702702703, 'Sure': 0.02702702702702703, 'firstly': 0.08108108108108109, 'sir': 1.0, 'tcs': 0.13513513513513514, 'brand': 0.08108108108108109, 'known': 0.02702702702702703, 'multinational': 0.05405405405405406, 'company': 0.32432432432432434, 'good': 0.2972972972972973, 'career': 0.02702702702702703, 'Secondly': 0.05405405405405406, 'life': 0.08108108108108109, 'balance': 0.08108108108108109, 'talked': 0.02702702702702703, 'friends': 0.02702702702702703, 'gives': 0.08108108108108109, 'second': 0.02702702702702703, 'colleagues': 0.05405405405405406, 'hardraw': 0.02702702702702703, 'futuristic': 0.02702702702702703, 'lot': 0.05405405405405406, 'learn': 0.08108108108108109, 'Fourthly': 0.02702702702702703, 'chance': 0.02702702702702703, 'uhh': 0.02702702702702703, 'abroad': 0.02702702702702703, 'meet': 0.02702702702702703, 'people': 0.05405405405405406, 'nationalities': 0.02702702702702703, 'industry': 0.05405405405405406, 'sense': 0.02702702702702703, 'job': 0.1891891891891892, 'security': 0.10810810810810811, 'extent': 0.02702702702702703, 'ethical': 0.02702702702702703, 'values': 0.05405405405405406, 'said': 0.08108108108108109, 'promotes': 0.02702702702702703, 'gender': 0.02702702702702703, 'equality': 0.02702702702702703, 'discrimination': 0.02702702702702703, 'basis': 0.02702702702702703, 'ethics': 0.02702702702702703, 'overall': 0.02702702702702703, 'okay': 0.05405405405405406, 'nice': 0.02702702702702703, 'talking': 0.02702702702702703, 'thankyou': 0.05405405405405406, 'request': 0.02702702702702703, 'kernel': 0.02702702702702703, 'rathor': 0.05405405405405406, 'interview': 0.1891891891891892, 'Right': 0.02702702702702703, 'Thankyou': 0.05405405405405406, 'Good': 0.10810810810810811, 'afternoon': 0.10810810810810811, 'prepare': 0.02702702702702703, 'Tell': 0.02702702702702703, 'campus': 0.02702702702702703, 'interviews': 0.08108108108108109, 'appeared': 0.02702702702702703, 'results': 0.02702702702702703, 'interviewed': 0.05405405405405406, 'darnet': 0.02702702702702703, 'depor': 0.02702702702702703, 'selected': 0.10810810810810811, 'gateway': 0.08108108108108109, 'industries': 0.02702702702702703, 'given': 0.02702702702702703, 'analyzed': 0.02702702702702703, 'Sir': 0.35135135135135137, 'answered': 0.02702702702702703, 'questions': 0.05405405405405406, 'compared': 0.02702702702702703, 'candidates': 0.02702702702702703, 'prepared': 0.05405405405405406, 'enhanced': 0.02702702702702703, 'preparing': 0.02702702702702703, 'core': 0.05405405405405406, 'subjects': 0.05405405405405406, 'coding': 0.05405405405405406, 'day': 0.02702702702702703, 'think': 0.08108108108108109, 'ahhh': 0.02702702702702703, 'future': 0.08108108108108109, 'plans': 0.08108108108108109, 'join': 0.08108108108108109, 'want': 0.2972972972972973, 'ah': 0.24324324324324326, 'languages': 0.02702702702702703, 'achieve': 0.02702702702702703, 'great': 0.02702702702702703, 'satisfied': 0.02702702702702703, 'learned': 0.02702702702702703, 'reasons': 0.02702702702702703, 'youngsters': 0.02702702702702703, 'switching': 0.02702702702702703, 'jobs': 0.02702702702702703, 'maybe': 0.02702702702702703, 'satisfaction': 0.08108108108108109, 'enter': 0.02702702702702703, 'seeing': 0.02702702702702703, 'background': 0.02702702702702703, 'later': 0.02702702702702703, 'find': 0.05405405405405406, 'suitable': 0.02702702702702703, 'important': 0.08108108108108109, 'things': 0.02702702702702703, 'organization': 0.10810810810810811, 'fresher': 0.02702702702702703, 'look': 0.02702702702702703, 'mean': 0.10810810810810811, 'steep': 0.02702702702702703, 'growing': 0.02702702702702703, 'curve': 0.02702702702702703, 'frank': 0.02702702702702703, 'help': 0.10810810810810811, 'way': 0.05405405405405406, 'thirdly': 0.02702702702702703, 'yes': 0.1891891891891892, 'achieved': 0.02702702702702703, 'level': 0.05405405405405406, 'technically': 0.05405405405405406, 'latest': 0.08108108108108109, 'obsolete': 0.02702702702702703, 'technologies': 0.08108108108108109, 'fit': 0.10810810810810811, 'requirement': 0.02702702702702703, 'changes': 0.02702702702702703, 'according': 0.05405405405405406, 'needs': 0.02702702702702703, 'fixed': 0.02702702702702703, 'technology': 0.02702702702702703, 'use': 0.2972972972972973, 'clients': 0.08108108108108109, 'major': 0.02702702702702703, 'sorry': 0.02702702702702703, 'aware': 0.02702702702702703, 'sure': 0.08108108108108109, 'ask': 0.02702702702702703, 'able': 0.10810810810810811, 'Yeah': 0.02702702702702703, 'analysis': 0.02702702702702703, 'requirements': 0.02702702702702703, 'case': 0.08108108108108109, 'qualities': 0.02702702702702703, 'suggestions': 0.02702702702702703, 'adventure': 0.02702702702702703, 'finally': 0.02702702702702703, 'remarks': 0.02702702702702703, 'best': 0.13513513513513514, 'right': 0.16216216216216217, 'basically': 0.05405405405405406, 'aim': 0.05405405405405406, 'companies': 0.10810810810810811, 'higher': 0.02702702702702703, 'entrepreneurship': 0.05405405405405406, 'highest': 0.05405405405405406, 'provide': 0.02702702702702703, 'conc': 0.02702702702702703, 'simultaneously': 0.02702702702702703, 'option': 0.02702702702702703, 'example': 0.24324324324324326, 'offer': 0.08108108108108109, 'time': 0.05405405405405406, 'getting': 0.02702702702702703, 'better': 0.02702702702702703, 'tier': 0.10810810810810811, 'packages': 0.02702702702702703, 'develop': 0.02702702702702703, 'offering': 0.02702702702702703, 'compare': 0.02702702702702703, 'terms': 0.02702702702702703, 'defiantly': 0.02702702702702703, 'told': 0.02702702702702703, 'means': 0.05405405405405406, 'startup': 0.05405405405405406, 'midsize': 0.02702702702702703, 'package': 0.05405405405405406, 'giving': 0.10810810810810811, 'lakh': 0.05405405405405406, 'choose': 0.02702702702702703, 'old': 0.02702702702702703, 'trust': 0.05405405405405406, 'new': 0.02702702702702703, 'issues': 0.02702702702702703, 'salary': 0.05405405405405406, 'matter': 0.02702702702702703, 'perform': 0.05405405405405406, 'insecurity': 0.02702702702702703, 'end': 0.02702702702702703, 'complaints': 0.02702702702702703, 'yeah': 0.02702702702702703, 'domain': 0.02702702702702703, 'feel': 0.05405405405405406, 'comfortable': 0.02702702702702703, 'Ah': 0.02702702702702703, 'subject': 0.02702702702702703, 'C++': 0.08108108108108109, 'DBMS': 0.02702702702702703, 'concept': 0.05405405405405406, 'implement': 0.05405405405405406, 'snake': 0.10810810810810811, 'ladder': 0.13513513513513514, 'Snakes': 0.02702702702702703, 'Ladders': 0.02702702702702703, 'language': 0.02702702702702703, 'know': 0.02702702702702703, 'implementation': 0.02702702702702703, 'minute': 0.02702702702702703, 'Hmm': 0.02702702702702703, 'need': 0.05405405405405406, 'logic': 0.02702702702702703, 'code': 0.05405405405405406, 'Ok': 0.05405405405405406, 'Hua': 0.02702702702702703, 'thoda': 0.05405405405405406, 'Verbaly': 0.02702702702702703, 'btao': 0.02702702702702703, 'bus': 0.02702702702702703, 'analyze': 0.02702702702702703, 'going': 0.02702702702702703, 'direction': 0.02702702702702703, 'columns': 0.02702702702702703, 'disk': 0.02702702702702703, 'maximum': 0.02702702702702703, 'dice': 0.13513513513513514, 'variable': 0.02702702702702703, 'random': 0.08108108108108109, 'function': 0.05405405405405406, 'derive': 0.02702702702702703, 'number': 0.05405405405405406, 'numbers': 0.05405405405405406, 'counter': 0.1891891891891892, 'increase': 0.08108108108108109, 'comes': 0.02702702702702703, 'predefine': 0.02702702702702703, 'snakes': 0.02702702702702703, 'reach': 0.02702702702702703, 'increased': 0.02702702702702703, 'blocks': 0.02702702702702703, 'block': 0.05405405405405406, 'pre': 0.02702702702702703, 'define': 0.08108108108108109, 'determine': 0.05405405405405406, 'increment': 0.02702702702702703, 'value': 0.1891891891891892, 'increasing': 0.02702702702702703, 'form': 0.05405405405405406, 'decrement': 0.05405405405405406, 'functions': 0.05405405405405406, 'assigned': 0.02702702702702703, 'defined': 0.02702702702702703, 'FIFO': 0.02702702702702703, 'predefined': 0.05405405405405406, 'dictionary': 0.08108108108108109, 'dictonary': 0.02702702702702703, 'array': 0.02702702702702703, 'arrays': 0.05405405405405406, 'switch': 0.16216216216216217, 'hnn': 0.02702702702702703, 'long': 0.02702702702702703, 'global': 0.02702702702702703, 'cause': 0.02702702702702703, 'separate': 0.02702702702702703, 'switches': 0.02702702702702703, 'encapsulation': 0.02702702702702703, 'Divyansh': 0.02702702702702703, 'answer': 0.02702702702702703, 'correct': 0.08108108108108109, 'partially': 0.02702702702702703, 'data': 0.05405405405405406, 'hiding': 0.02702702702702703, 'aa': 0.02702702702702703, 'class': 0.05405405405405406, 'implemented': 0.02702702702702703, 'access': 0.05405405405405406, 'modifiers': 0.02702702702702703, 'public': 0.05405405405405406, 'protected': 0.05405405405405406, 'private': 0.05405405405405406, 'default': 0.02702702702702703, 'specifier': 0.02702702702702703, 'scope': 0.02702702702702703, 'variables': 0.02702702702702703, 'subclasses': 0.02702702702702703, 'current': 0.02702702702702703, 'storage': 0.05405405405405406, 'classes': 0.05405405405405406, 'm': 0.02702702702702703, 'recall': 0.02702702702702703, 've': 0.02702702702702703, 'gauri': 0.02702702702702703, 'Explore': 0.02702702702702703, 'mainly': 0.02702702702702703, 'ill': 0.02702702702702703, 'mind': 0.05405405405405406, 'remark': 0.02702702702702703, 'definitely': 0.02702702702702703, 'candidate': 0.08108108108108109, 'observed': 0.02702702702702703, 'knowledge': 0.02702702702702703, 'checked': 0.02702702702702703, 'head': 0.02702702702702703, 'department': 0.02702702702702703, 'CAC': 0.02702702702702703, 'check': 0.02702702702702703, 'easily': 0.02702702702702703, 'process': 0.05405405405405406, 'clear': 0.02702702702702703, 'thought': 0.02702702702702703, 'justified': 0.02702702702702703, 'ok': 0.05405405405405406, 'come': 0.05405405405405406, 'chances': 0.02702702702702703, 'drop': 0.05405405405405406, 'Google': 0.02702702702702703, 'hire': 0.02702702702702703, 'somebody': 0.02702702702702703, 'having': 0.02702702702702703, 'capabilities': 0.02702702702702703, 'caror': 0.02702702702702703, 'anom': 0.02702702702702703, 'doubt': 0.08108108108108109, 'kind': 0.02702702702702703, 'condition': 0.02702702702702703, 'shoud': 0.02702702702702703, 'set': 0.02702702702702703}\n"
     ]
    }
   ],
   "source": [
    "print(word_frequencies)"
   ]
  },
  {
   "cell_type": "code",
   "execution_count": 537,
   "metadata": {
    "scrolled": true
   },
   "outputs": [
    {
     "name": "stdout",
     "output_type": "stream",
     "text": [
      "[Yes Gauri tell me tell me something about you, Okay ahh thank you for allowing me to introduce myself., My name is Gauri shirmali., I am from Udaipur Rajasthan., I'm doing computer science engineering from Geetanjali Institute of technical studies., I secured 9.2 c GPA in 10, standard 73.4 Cgp ahh percentage in 12 standard., And currently an engineering my aggregate score is 77 percentage., computer sciences is omnipresent that is it is present in every field and hence I have invested these last 3.5 almost years and a developing my software skills My technical skills include programming in Python, Java, C, c++, databases I am also familiar with web development, Kubernetes, Docker, Ansible, et cetera., So these all are my technical skills., And I’ve  also used this skills to build several projects, which include user management project and attendance management project., I've also participated in smart India hackathons of which ahh in one we also got to the finals., Ahh these are my technical skills, coming to my extracurricular activities I love to dance umm particularly semi classical dance., I also like to read write and paint have been the student editor of our colleges newsletter bits and bytes., And currently I am one of the cultural heads of our students club,, So I've I have also participated in several donation camps several donation camps as I am a  a member of the Rotary Club Udaipur, I consider myself as a very focused person, I’ve  and I always work towards my goals and in a very efficient manner., I am a team player and very optimistic in tough times, And lastly I would like to say that why not start the journey of my success by the success of joining TCS Thank you so much., Okay ahh, What are the five specific point about Tcs which makes Tcs different from the other IT MNCs?, Sure firstly sir ahh tcs is has a brand name, it is known it is a multinational company and it has a very good brand name and thus it would give me a good start for my career., Secondly, it has a work life balance., I have talked to many of my friends who are in Tcs and they say that Tcs gives a very good work life balance., So that is the second point., Third point is the colleagues there hardraw very futuristic in their skills., So there is a lot to learn from them., Fourthly, as Tcs is a multinational company, I would like to I would have the chance to even uhh go abroad and a meet a people of different nationalities., And lastly there as Tcs is has been in the industry for almost hundred and fifty years., So it gives me a sense of job security to some extent., Okay what are the ethical values Tcs have?, sir like I said there is a work life balance and it a it it promotes like gender equality ,there is no like discrimination on the basis of that., And it so it's very good ethics overall., Okay, okay, Gauri nice talking to you , thankyou sir , and  I request kernel rathor sir to take next part of interview Right., Thankyou so much sir Good afternoon Good afternoon sir All prepare, Yes sir, Okay Tell us which other campus interviews Have you appeared for and what has been the results?, So I have interviewed for darnet, which is an depor only and I got selected for it., I also interviewed for gateway industries., I was not selected in the interview I got to the interview part but was not selected So that's it., I've only given these interviews., Okay Have you analyzed Why you didn't get selected for gateway?, Sir in gateway I might have not answered the technical questions very well as compared to the other candidates., Okay, so how have you prepared for TCS interview now?, Sir I have an enhanced my technical skills I have been preparing for the core subjects, and I've been doing coding almost every day, So I think that I prepared quite well For Tcs., Okay ahhh umm  Gauri tell me what are your future plans?, Sir my future plans sir if I join TCS or otherwise What are your future plans ?, Sir I want to join a software company and a work for it., And I want to a learn as much ah like as much languages and as much skills as I can, and I also want to achieve great success so that I'm satisfied with what I've learned, Okay ah what do you think are the reasons for youngsters switching over jobs?, Sir maybe it is job satisfaction because they enter a company without a a seeing the background of the company and then they later find out that the company was not suitable for them., Okay., That's for you, what are the three important things ah that ah one should consider before joining any organization as a fresher?, So firstly the one should look if there is a lot to learn from the company, I mean, there should be a very steep like growing curve in the company., Secondly, they should be like the colleagues and everything should be very frank so that they help you in every way and thirdly  for me there should be a brand name so that there is a satisfaction that yes I have achieved a level and now I can go to the next level., Okay technically what gives you job satisfaction?, Sir technically the latest I want to go with latest technical skills, like not obsolete technologies, but the latest technologies., So how does TCS fit into your requirement?, Sir tcs changes with technologies according to the needs of the people of the or so there is not a there is no fixed technology that they use they use according to the clients which is very well., which are the major clients of TCS?, Can you name three or four of them?, I'm sorry sir, but I'm not aware of the clients., Okay sure anything that you want to ask?, Sir will I be able to like fit in the company?, I mean what do you think?, Will you be able to fit into the company?, Yes sir, Yeah, as per your own analysis, you said you're a good team player and what requirements you said for a good job in case you have those qualities I'm sure you will be able to fit into., Okay, sir, thank you any more suggestions for me?, No nothing more adventure will finally give his remarks., Thank you so much sir., All the best right Gauri, Yes sir What is your basically the aim you want to go into software companies or anything more than that?, No sir I want to go into software companies that is aim okay., You don't want to go for any higher studies or entrepreneurship like., No sir entrepreneurship No  but the highest studies many of the companies, Tcs also provide like conc simultaneously highest studies So that may also be a very good option., Okay for example you have got you have got the offer from Tcs, Or at the same time Meanwhile you're getting the better offer than Tcs from another organization which is not a tier one organization but tier two organization but the packages just develop what we are offering then what you will do?, a sir I compare both the companies in terms of the defiantly I’ve told the tcs is the tier one and you've got the offer from tier two it means the startup or midsize company with the package for example, we are giving you four lakh they are giving you eight lakh in that case what do you do?,  Sir I choose Tcs only because Tcs is like almost hundred and fifty years old company so it it has a very good job security., And as I cannot really trust a startup because they are new in the industry, and that's why there is there might be some trust issues so i At least salary does not matter for you ?, Sir job security is more important than a salary if you will not perform well in the tcs also you can get the job insecurity in tcs also., Sir, but I will perform good, and I would like from my end there will be no complaints from Tcs., Okay, yeah, Gauri Good afternoon sir Good afternoon ah which domain you feel comfortable?, Ah sir core subject subjects programming C++ , DBMS, Yes sir., So, give me a concept to implement snake and ladder., implement Snakes and Ladders using any programming language?, I want to know only concept not the implementation, Okay I'm giving you the one minute Hmm  sir can I write something  , Yes yes, but I need only logic right not the coding a code part., Ok sir Hua Gauri, Yes sir thoda thoda ah sir we can Verbaly btao to bus when I can analyze that you are going in the right direction or not., Okay sir, ah so ah firstly a we will the will like a this for example of how how many columns are there for example, I take disk of fifty the maximum we take a fifty, and then now we take dice., so a variable in which we will take a random function with the help of random function, we can derive a number between one to six and for the first for the first move, if the numbers random number is six, then we can move like we can keep a counter of the player., so we can increase the counter with the numbers that comes in the dice., And then now we can predefine the snakes for example, if at if we reach five then the the counter should like increased by 10 blocks., so the counter will increase by ten block That is the ladder and this way we can like pre define the next., My next is the how you will how you will determine whether to you have to increment its dice value means you you own to use it's increasing the counter value in form of ladder, yes sir or you have to decrement the counter value in form of snake., so how you will determine it., Sir with the help of functions., For example, if the dice value for if if the dice value or the that block value in which the counter is right now is five so I have assigned five already that five is a ladder, so then it will increase and for example if 12 is a snake then I've already defined that at 12 you need to decrement the value by for example FIFO or whatever., So I will predefined where you will predefined these values?, So I can use a dictionary to like if I'm doing in Python then I can use it dictonary., If we are using C then and C++, Java there we doesn't have any dictionary Then sir we can ah we can use array of arrays and then like make dictionary with the help of arrays, Okay yes can we switch or not there?, switch yes, hnn, but so we can use, but it is too long like we will have to write the code many times in switch why many times we can define a in switch global or anywhere then we can use it cause switch for snake and switch for a ladder two separate switches we can use yes sir that we can ahh, so what do you mean by the encapsulation is Divyansh answer is correct., Sir partially it is correct it is used for data hiding but more data security., So aa in our class it is implemented using access modifiers like public protected private, and there is a default access specifier as well., So ahh using these we can a define the scope of the variables or the functions like if it is public then it can be used all through and if it is protected then only the subclasses can use it and if private then only the current class can use it., What do you mean by storage classes ?, A storage classes sir im no able to recall ive a Okay gauri all the best Thankyou so much Explore more and more Tcs technical interview questions right?, Ok sir They are basically mainly from C and C++., Okay sir ill keep that in mind thankyou so much sir all the best thank you A from my side and rathor sir interview my remark for you definitely you are the good candidate that we have already observed many time ahh technical knowledge I have not checked out your head of department CAC will check it out but a you can easily correct the process., Okay thank you so much sir, Or a when you are clear about your thought process then at least it should be justified when you are giving the interviews, Yes sir sure it is very important ok sir if they feel that you want to come, but you can not come then then there is a chances they can drop you., Either you are a good candidate or the best for example Google want to hire somebody or they find the candidate which is having the capabilities to get a caror package in a anom., But they have the doubt that no doubt is the best but they have the doubt that either he'll join or not., then might be they can drop so, yes that kind of condition in the interview at least shoud not be so case., Okay I'll keep that in mind sir thank you Otherwise all set all right ok, Thank you Thank you sir]\n"
     ]
    }
   ],
   "source": [
    "sentence_tokens = [sent for sent in doc.sents]\n",
    "print(sentence_tokens)"
   ]
  },
  {
   "cell_type": "code",
   "execution_count": 538,
   "metadata": {
    "scrolled": true
   },
   "outputs": [],
   "source": [
    "sentence_scores = {}\n",
    "for sent in sentence_tokens:\n",
    "    for word in sent:\n",
    "        if word.text.lower() in word_frequencies.keys():\n",
    "            if sent not in sentence_scores.keys():\n",
    "                sentence_scores[sent] = word_frequencies[word.text.lower()]\n",
    "            else:\n",
    "                sentence_scores[sent] += word_frequencies[word.text.lower()]"
   ]
  },
  {
   "cell_type": "code",
   "execution_count": 539,
   "metadata": {},
   "outputs": [
    {
     "name": "stdout",
     "output_type": "stream",
     "text": [
      "{Yes Gauri tell me tell me something about you: 0.3783783783783784, Okay ahh thank you for allowing me to introduce myself.: 0.4594594594594595, My name is Gauri shirmali.: 0.05405405405405406, I'm doing computer science engineering from Geetanjali Institute of technical studies.: 0.4864864864864865, I secured 9.2 c GPA in 10, standard 73.4 Cgp ahh percentage in 12 standard.: 0.6216216216216216, And currently an engineering my aggregate score is 77 percentage.: 0.24324324324324326, computer sciences is omnipresent that is it is present in every field and hence I have invested these last 3.5 almost years and a developing my software skills My technical skills include programming in Python, Java, C, c++, databases I am also familiar with web development, Kubernetes, Docker, Ansible, et cetera.: 1.5135135135135132, So these all are my technical skills.: 0.4864864864864865, And I’ve  also used this skills to build several projects, which include user management project and attendance management project.: 0.8918918918918919, I've also participated in smart India hackathons of which ahh in one we also got to the finals.: 0.5135135135135136, Ahh these are my technical skills, coming to my extracurricular activities I love to dance umm particularly semi classical dance.: 1.054054054054054, I also like to read write and paint have been the student editor of our colleges newsletter bits and bytes.: 0.9459459459459456, And currently I am one of the cultural heads of our students club,: 0.16216216216216217, So I've I have also participated in several donation camps several donation camps as I am a  a member of the Rotary Club Udaipur, I consider myself as a very focused person, I’ve  and I always work towards my goals and in a very efficient manner.: 1.189189189189189, I am a team player and very optimistic in tough times: 0.2702702702702703, And lastly I would like to say that why not start the journey of my success by the success of joining TCS Thank you so much.: 1.2702702702702702, Okay ahh: 0.2702702702702703, What are the five specific point about Tcs which makes Tcs different from the other IT MNCs?: 0.4594594594594595, Sure firstly sir ahh tcs is has a brand name, it is known it is a multinational company and it has a very good brand name and thus it would give me a good start for my career.: 2.756756756756757, Secondly, it has a work life balance.: 0.2972972972972973, I have talked to many of my friends who are in Tcs and they say that Tcs gives a very good work life balance.: 1.0000000000000002, So that is the second point.: 0.10810810810810811, Third point is the colleagues there hardraw very futuristic in their skills.: 0.43243243243243246, So there is a lot to learn from them.: 0.13513513513513514, Fourthly, as Tcs is a multinational company, I would like to I would have the chance to even uhh go abroad and a meet a people of different nationalities.: 1.405405405405405, And lastly there as Tcs is has been in the industry for almost hundred and fifty years.: 0.32432432432432434, So it gives me a sense of job security to some extent.: 0.43243243243243246, Okay what are the ethical values Tcs have?: 0.2702702702702703, sir like I said there is a work life balance and it a it it promotes like gender equality ,there is no like discrimination on the basis of that.: 3.4594594594594605, And it so it's very good ethics overall.: 0.35135135135135137, Okay: 0.05405405405405406, okay: 0.05405405405405406, Gauri nice talking to you , thankyou sir , and  I request kernel rathor sir to take next part of interview Right.: 2.8648648648648645, Thankyou so much sir Good afternoon Good afternoon sir All prepare: 2.891891891891892, Yes sir: 1.1891891891891893, Okay Tell us which other campus interviews Have you appeared for and what has been the results?: 0.2972972972972973, So I have interviewed for darnet, which is an depor only and I got selected for it.: 0.3783783783783784, I also interviewed for gateway industries.: 0.16216216216216217, I was not selected in the interview I got to the interview part but was not selected So that's it.: 0.7567567567567568, I've only given these interviews.: 0.10810810810810811, Okay Have you analyzed Why you didn't get selected for gateway?: 0.2702702702702703, Sir in gateway I might have not answered the technical questions very well as compared to the other candidates.: 1.4594594594594592, Okay: 0.05405405405405406, so how have you prepared for TCS interview now?: 0.3783783783783784, Sir I have an enhanced my technical skills I have been preparing for the core subjects, and I've been doing coding almost every day: 1.7297297297297292, So I think that I prepared quite well For Tcs.: 0.2702702702702703, Okay ahhh umm  Gauri tell me what are your future plans?: 0.6756756756756759, Sir my future plans sir if I join TCS or otherwise What are your future plans ?: 2.540540540540541, Sir I want to join a software company and a work for it.: 1.945945945945946, And I want to a learn as much ah like as much languages and as much skills as I can: 1.5405405405405406, and I also want to achieve great success so that I'm satisfied with what I've learned: 0.4864864864864865, Okay ah what do you think are the reasons for youngsters switching over jobs?: 0.4864864864864865, Sir maybe it is job satisfaction because they enter a company without a a seeing the background of the company and then they later find out that the company was not suitable for them.: 2.4594594594594597, Okay.: 0.05405405405405406, That's for you, what are the three important things ah that ah one should consider before joining any organization as a fresher?: 0.8378378378378379, So firstly the one should look if there is a lot to learn from the company, I mean, there should be a very steep like growing curve in the company.: 1.7297297297297296, Secondly, they should be like the colleagues and everything should be very frank so that they help you in every way and thirdly  for me there should be a brand name so that there is a satisfaction that yes I have achieved a level and now I can go to the next level.: 1.6756756756756759, Okay technically what gives you job satisfaction?: 0.4594594594594595, Sir technically the latest I want to go with latest technical skills, like not obsolete technologies, but the latest technologies.: 2.9189189189189193, So how does TCS fit into your requirement?: 0.2702702702702703, Sir tcs changes with technologies according to the needs of the people of the or so there is not a there is no fixed technology that they use they use according to the clients which is very well.: 2.1621621621621623, which are the major clients of TCS?: 0.24324324324324326, I'm sorry sir: 1.027027027027027, but I'm not aware of the clients.: 0.10810810810810811, Okay sure anything that you want to ask?: 0.4594594594594595, Sir will I be able to like fit in the company?: 2.1891891891891895, I mean what do you think?: 0.1891891891891892, Will you be able to fit into the company?: 0.5405405405405406, Yes sir: 1.1891891891891893, Yeah, as per your own analysis, you said you're a good team player and what requirements you said for a good job in case you have those qualities I'm sure you will be able to fit into.: 1.5675675675675678, Okay, sir, thank you any more suggestions for me?: 1.216216216216216, No nothing more adventure will finally give his remarks.: 0.08108108108108109, Thank you so much sir.: 1.135135135135135, All the best right Gauri: 0.32432432432432434, Yes sir What is your basically the aim you want to go into software companies or anything more than that?: 1.810810810810811, No sir I want to go into software companies that is aim okay.: 1.6216216216216215, You don't want to go for any higher studies or entrepreneurship like.: 1.135135135135135, No sir entrepreneurship No  but the highest studies many of the companies: 1.5945945945945943, Tcs also provide like conc simultaneously highest studies So that may also be a very good option.: 1.3513513513513515, Okay for example you have got you have got the offer from Tcs: 0.8378378378378379, Or at the same time Meanwhile you're getting the better offer than Tcs from another organization which is not a tier one organization but tier two organization but the packages just develop what we are offering then what you will do?: 0.9459459459459458, a sir I compare both the companies in terms of the defiantly I’ve told the tcs is the tier one and you've got the offer from tier two it means the startup or midsize company with the package for example, we are giving you four lakh they are giving you eight lakh in that case what do you do?: 2.972972972972973,  Sir I choose Tcs only because Tcs is like almost hundred and fifty years old company so it it has a very good job security.: 3.243243243243243, And as I cannot really trust a startup because they are new in the industry, and that's why there is there might be some trust issues so i At least salary does not matter for you ?: 0.35135135135135137, Sir job security is more important than a salary if you will not perform well in the tcs also you can get the job insecurity in tcs also.: 1.9729729729729728, Sir: 1.0, but I will perform good: 0.35135135135135137, and I would like from my end there will be no complaints from Tcs.: 0.8378378378378377, Okay: 0.05405405405405406, yeah: 0.02702702702702703, Gauri Good afternoon sir Good afternoon ah which domain you feel comfortable?: 2.1891891891891895, Ah sir core subject subjects programming C++ , DBMS: 1.4864864864864866, Yes sir.: 1.1891891891891893, So, give me a concept to implement snake and ladder.: 0.35135135135135137, implement Snakes and Ladders using any programming language?: 0.1891891891891892, I want to know only concept not the implementation: 0.40540540540540543, Okay I'm giving you the one minute Hmm  sir can I write something  : 1.810810810810811, Yes yes: 0.3783783783783784, but I need only logic right not the coding a code part.: 0.35135135135135137, Ok sir Hua Gauri: 1.081081081081081, Yes sir thoda thoda ah sir we can Verbaly btao to bus when I can analyze that you are going in the right direction or not.: 2.8378378378378386, Okay sir: 1.054054054054054, ah so ah firstly a we will the will like a this for example of how how many columns are there for example, I take disk of fifty the maximum we take a fifty: 1.7837837837837835, and then now we take dice.: 0.13513513513513514, so a variable in which we will take a random function with the help of random function, we can derive a number between one to six and for the first for the first move, if the numbers random number is six, then we can move like we can keep a counter of the player.: 1.594594594594595, so we can increase the counter with the numbers that comes in the dice.: 0.4864864864864865, And then now we can predefine the snakes for example, if at if we reach five then the the counter should like increased by 10 blocks.: 1.2702702702702704, so the counter will increase by ten block That is the ladder and this way we can like pre define the next.: 1.2702702702702704, My next is the how you will how you will determine whether to you have to increment its dice value means you you own to use it's increasing the counter value in form of ladder: 1.3513513513513513, yes sir or you have to decrement the counter value in form of snake.: 1.783783783783784, so how you will determine it.: 0.05405405405405406, Sir with the help of functions.: 1.1621621621621623, For example, if the dice value for if if the dice value or the that block value in which the counter is right now is five so I have assigned five already that five is a ladder, so then it will increase and for example if 12 is a snake then I've already defined that at 12 you need to decrement the value by for example FIFO or whatever.: 2.810810810810811, So I will predefined where you will predefined these values?: 0.16216216216216217, So I can use a dictionary to like if I'm doing in Python then I can use it dictonary.: 1.3513513513513515, If we are using C then and C++, Java there we doesn't have any dictionary Then sir we can ah we can use array of arrays and then like make dictionary with the help of arrays: 2.6486486486486487, Okay yes can we switch or not there?: 0.40540540540540543, switch yes: 0.35135135135135137, hnn: 0.02702702702702703, but so we can use: 0.2972972972972973, but it is too long like we will have to write the code many times in switch why many times we can define a in switch global or anywhere then we can use it cause switch for snake and switch for a ladder two separate switches we can use yes sir that we can ahh: 4.054054054054054, so what do you mean by the encapsulation is Divyansh answer is correct.: 0.24324324324324326, Sir partially it is correct it is used for data hiding but more data security.: 1.3513513513513515, So aa in our class it is implemented using access modifiers like public protected private: 1.0, and there is a default access specifier as well.: 0.10810810810810811, So ahh using these we can a define the scope of the variables or the functions like if it is public then it can be used all through and if it is protected then only the subclasses can use it and if private then only the current class can use it.: 1.9189189189189193, What do you mean by storage classes ?: 0.21621621621621623, A storage classes sir im no able to recall ive a Okay gauri all the best Thankyou so much Explore more and more Tcs technical interview questions right?: 2.3513513513513513, Ok sir They are basically mainly from C and C++.: 1.1891891891891888, Okay sir ill keep that in mind thankyou so much sir all the best thank you A from my side and rathor sir interview my remark for you definitely you are the good candidate that we have already observed many time ahh technical knowledge I have not checked out your head of department CAC will check it out but a you can easily correct the process.: 4.972972972972973, Okay thank you so much sir: 1.1891891891891893, Or a when you are clear about your thought process then at least it should be justified when you are giving the interviews: 0.32432432432432434, Yes sir sure it is very important ok sir if they feel that you want to come: 2.810810810810811, but you can not come then then there is a chances they can drop you.: 0.13513513513513514, Either you are a good candidate or the best for example Google want to hire somebody or they find the candidate which is having the capabilities to get a caror package in a anom.: 1.4054054054054055, But they have the doubt that no doubt is the best but they have the doubt that either he'll join or not.: 0.4594594594594595, then might be they can drop so: 0.05405405405405406, yes that kind of condition in the interview at least shoud not be so case.: 0.5405405405405406, Okay I'll keep that in mind sir thank you Otherwise all set all right ok: 1.4864864864864864, Thank you Thank you sir: 1.2702702702702702}\n"
     ]
    }
   ],
   "source": [
    "print(sentence_scores)"
   ]
  },
  {
   "cell_type": "code",
   "execution_count": 486,
   "metadata": {
    "scrolled": true
   },
   "outputs": [
    {
     "name": "stdout",
     "output_type": "stream",
     "text": [
      "Yes Gauri tell me tell me something about you\n",
      "Okay ahh thank you for allowing me to introduce myself.\n",
      "My name is Gauri shirmali.\n",
      "I'm doing computer science engineering from Geetanjali Institute of technical studies.\n",
      "I secured 9.2 c GPA in 10, standard 73.4 Cgp ahh percentage in 12 standard.\n",
      "And currently an engineering my aggregate score is 77 percentage.\n",
      "So these all are my technical skills.\n",
      "I've also participated in smart India hackathons of which ahh in one we also got to the finals.\n",
      "And currently I am one of the cultural heads of our students club,\n",
      "I am a team player and very optimistic in tough times\n",
      "What are the five specific point about Tcs which makes Tcs different from the other IT MNCs?\n",
      "Secondly, it has a work life balance.\n",
      "So that is the second point.\n",
      "Third point is the colleagues there hardraw very futuristic in their skills.\n",
      "So there is a lot to learn from them.\n",
      "And lastly there as Tcs is has been in the industry for almost hundred and fifty years.\n",
      "So it gives me a sense of job security to some extent.\n",
      "Okay what are the ethical values Tcs have?\n",
      "And it so it's very good ethics overall.\n",
      "Thankyou so much sir Good afternoon Good afternoon sir All prepare\n",
      "Okay Tell us which other campus interviews Have you appeared for and what has been the results?\n",
      "So I have interviewed for darnet, which is an depor only and I got selected for it.\n",
      "I also interviewed for gateway industries.\n",
      "I've only given these interviews.\n",
      "Okay Have you analyzed Why you didn't get selected for gateway?\n",
      "Sir in gateway I might have not answered the technical questions very well as compared to the other candidates.\n",
      "so how have you prepared for TCS interview now?\n",
      "So I think that I prepared quite well For Tcs.\n",
      "Okay ahhh umm  Gauri tell me what are your future plans?\n",
      "Sir my future plans sir if I join TCS or otherwise What are your future plans ?\n",
      "Sir I want to join a software company and a work for it.\n",
      "And I want to a learn as much ah like as much languages and as much skills as I can\n",
      "and I also want to achieve great success so that I'm satisfied with what I've learned\n",
      "Okay ah what do you think are the reasons for youngsters switching over jobs?\n",
      "Okay technically what gives you job satisfaction?\n",
      "So how does TCS fit into your requirement?\n",
      "which are the major clients of TCS?\n",
      "but I'm not aware of the clients.\n",
      "Okay sure anything that you want to ask?\n",
      "Sir will I be able to like fit in the company?\n",
      "I mean what do you think?\n",
      "Will you be able to fit into the company?\n",
      "Okay, sir, thank you any more suggestions for me?\n",
      "No nothing more adventure will finally give his remarks.\n",
      "Thank you so much sir.\n",
      "All the best right Gauri\n",
      "No sir I want to go into software companies that is aim okay.\n",
      "You don't want to go for any higher studies or entrepreneurship like.\n",
      "No sir entrepreneurship No  but the highest studies many of the companies\n",
      "Tcs also provide like conc simultaneously highest studies So that may also be a very good option.\n",
      "Okay for example you have got you have got the offer from Tcs\n",
      "but I will perform good\n",
      "and I would like from my end there will be no complaints from Tcs.\n",
      "Gauri Good afternoon sir Good afternoon ah which domain you feel comfortable?\n",
      "Ah sir core subject subjects programming C++ , DBMS\n",
      "So, give me a concept to implement snake and ladder.\n",
      "implement Snakes and Ladders using any programming language?\n",
      "I want to know only concept not the implementation\n",
      "Okay I'm giving you the one minute Hmm  sir can I write something\n",
      "but I need only logic right not the coding a code part.\n",
      "and then now we take dice.\n",
      "so we can increase the counter with the numbers that comes in the dice.\n",
      "yes sir or you have to decrement the counter value in form of snake.\n",
      "so how you will determine it.\n",
      "Sir with the help of functions.\n",
      "So I will predefined where you will predefined these values?\n",
      "Okay yes can we switch or not there?\n",
      "but so we can use\n",
      "so what do you mean by the encapsulation is Divyansh answer is correct.\n",
      "Sir partially it is correct it is used for data hiding but more data security.\n",
      "So aa in our class it is implemented using access modifiers like public protected private\n",
      "and there is a default access specifier as well.\n",
      "What do you mean by storage classes ?\n",
      "Ok sir They are basically mainly from C and C++.\n",
      "Okay thank you so much sir\n",
      "Yes sir sure it is very important ok sir if they feel that you want to come\n",
      "but you can not come then then there is a chances they can drop you.\n",
      "then might be they can drop so\n",
      "yes that kind of condition in the interview at least shoud not be so case.\n",
      "Okay I'll keep that in mind sir thank you Otherwise all set all right ok\n",
      "Thank you Thank you sir\n"
     ]
    }
   ],
   "source": [
    "insight_strings = []\n",
    "for sent in sentence_scores.keys():\n",
    "    if sentence_scores[sent] >= 0 and sentence_scores[sent] <= 3 and len(sent) >= 5 and len(sent) <= 20:\n",
    "        insight_strings.append(sent.text.strip());\n",
    "        \n",
    "for string in insight_strings:\n",
    "    print(string)"
   ]
  },
  {
   "cell_type": "code",
   "execution_count": 586,
   "metadata": {},
   "outputs": [
    {
     "name": "stdout",
     "output_type": "stream",
     "text": [
      "\u001b[5m\u001b[7m\u001b[36mYes Gauri tell me tell me something about you\u001b[0m \u001b[5m\u001b[7m\u001b[36mOkay ahh thank you for allowing me to introduce myself.\u001b[0m \u001b[5m\u001b[7m\u001b[36mMy name is Gauri shirmali.\u001b[0m I am from Udaipur Rajasthan. \u001b[5m\u001b[7m\u001b[36mI'm doing computer science engineering from Geetanjali Institute of technical studies.\u001b[0m \u001b[5m\u001b[7m\u001b[36mI secured 9.2 c GPA in 10, standard 73.4 Cgp ahh percentage in 12 standard.\u001b[0m \u001b[5m\u001b[7m\u001b[36mAnd currently an engineering my aggregate score is 77 percentage.\u001b[0m computer sciences is omnipresent that is it is present in every field and hence I have invested these last 3.5 almost years and a developing my software skills My technical skills include programming in Python, Java, C, c++, databases I am also familiar with web development, Kubernetes, Docker, Ansible, et cetera. \u001b[5m\u001b[7m\u001b[36mSo these all are my technical skills.\u001b[0m And I’ve  also used this skills to build several projects, which include user management project and attendance management project. \u001b[5m\u001b[7m\u001b[36mI've also participated in smart India hackathons of which ahh in one we also got to the finals.\u001b[0m Ahh these are my technical skills, coming to my extracurricular activities I love to dance umm particularly semi classical dance. I also like to read write and paint have been the student editor of our colleges newsletter bits and bytes. \u001b[5m\u001b[7m\u001b[36mAnd currently I am one of the cultural heads of our students club,\u001b[0m So I've I have also participated in several donation camps several donation camps as I am a  a member of the Rotary Club Udaipur, I consider myself as a very focused person, I’ve  and I always work towards my goals and in a very efficient manner. \u001b[5m\u001b[7m\u001b[36mI am a team player and very optimistic in tough times\u001b[0m And lastly I would like to say that why not start the journey of my success by the success of joining TCS Thank you so much. Okay ahh \u001b[5m\u001b[7m\u001b[36mWhat are the five specific point about Tcs which makes Tcs different from the other IT MNCs?\u001b[0m Sure firstly sir ahh tcs is has a brand name, it is known it is a multinational company and it has a very good brand name and thus it would give me a good start for my career. \u001b[5m\u001b[7m\u001b[36mSecondly, it has a work life balance.\u001b[0m I have talked to many of my friends who are in Tcs and they say that Tcs gives a very good work life balance. \u001b[5m\u001b[7m\u001b[36mSo that is the second point.\u001b[0m \u001b[5m\u001b[7m\u001b[36mThird point is the colleagues there hardraw very futuristic in their skills.\u001b[0m \u001b[5m\u001b[7m\u001b[36mSo there is a lot to learn from them.\u001b[0m Fourthly, as Tcs is a multinational company, I would like to I would have the chance to even uhh go abroad and a meet a people of different nationalities. \u001b[5m\u001b[7m\u001b[36mAnd lastly there as Tcs is has been in the industry for almost hundred and fifty years.\u001b[0m \u001b[5m\u001b[7m\u001b[36mSo it gives me a sense of job security to some extent.\u001b[0m \u001b[5m\u001b[7m\u001b[36mOkay what are the ethical values Tcs have?\u001b[0m sir like I said there is a work life balance and it a it it promotes like gender equality ,there is no like discrimination on the basis of that. \u001b[5m\u001b[7m\u001b[36mAnd it so it's very good ethics overall.\u001b[0m Okay okay Gauri nice talking to you , thankyou sir , and  I request kernel rathor sir to take next part of interview Right. \u001b[5m\u001b[7m\u001b[36mThankyou so much sir Good afternoon Good afternoon sir All prepare\u001b[0m Yes sir \u001b[5m\u001b[7m\u001b[36mOkay Tell us which other campus interviews Have you appeared for and what has been the results?\u001b[0m \u001b[5m\u001b[7m\u001b[36mSo I have interviewed for darnet, which is an depor only and I got selected for it.\u001b[0m \u001b[5m\u001b[7m\u001b[36mI also interviewed for gateway industries.\u001b[0m I was not selected in the interview I got to the interview part but was not selected So that's it. \u001b[5m\u001b[7m\u001b[36mI've only given these interviews.\u001b[0m \u001b[5m\u001b[7m\u001b[36mOkay Have you analyzed Why you didn't get selected for gateway?\u001b[0m \u001b[5m\u001b[7m\u001b[36mSir in gateway I might have not answered the technical questions very well as compared to the other candidates.\u001b[0m Okay \u001b[5m\u001b[7m\u001b[36mso how have you prepared for TCS interview now?\u001b[0m Sir I have an enhanced my technical skills I have been preparing for the core subjects, and I've been doing coding almost every day \u001b[5m\u001b[7m\u001b[36mSo I think that I prepared quite well For Tcs.\u001b[0m \u001b[5m\u001b[7m\u001b[36mOkay ahhh umm  Gauri tell me what are your future plans?\u001b[0m \u001b[5m\u001b[7m\u001b[36mSir my future plans sir if I join TCS or otherwise What are your future plans ?\u001b[0m \u001b[5m\u001b[7m\u001b[36mSir I want to join a software company and a work for it.\u001b[0m \u001b[5m\u001b[7m\u001b[36mAnd I want to a learn as much ah like as much languages and as much skills as I can\u001b[0m \u001b[5m\u001b[7m\u001b[36mand I also want to achieve great success so that I'm satisfied with what I've learned\u001b[0m \u001b[5m\u001b[7m\u001b[36mOkay ah what do you think are the reasons for youngsters switching over jobs?\u001b[0m Sir maybe it is job satisfaction because they enter a company without a a seeing the background of the company and then they later find out that the company was not suitable for them. Okay. That's for you, what are the three important things ah that ah one should consider before joining any organization as a fresher? So firstly the one should look if there is a lot to learn from the company, I mean, there should be a very steep like growing curve in the company. Secondly, they should be like the colleagues and everything should be very frank so that they help you in every way and thirdly  for me there should be a brand name so that there is a satisfaction that yes I have achieved a level and now I can go to the next level. \u001b[5m\u001b[7m\u001b[36mOkay technically what gives you job satisfaction?\u001b[0m Sir technically the latest I want to go with latest technical skills, like not obsolete technologies, but the latest technologies. \u001b[5m\u001b[7m\u001b[36mSo how does TCS fit into your requirement?\u001b[0m Sir tcs changes with technologies according to the needs of the people of the or so there is not a there is no fixed technology that they use they use according to the clients which is very well. \u001b[5m\u001b[7m\u001b[36mwhich are the major clients of TCS?\u001b[0m Can you name three or four of them? I'm sorry sir \u001b[5m\u001b[7m\u001b[36mbut I'm not aware of the clients.\u001b[0m \u001b[5m\u001b[7m\u001b[36mOkay sure anything that you want to ask?\u001b[0m \u001b[5m\u001b[7m\u001b[36mSir will I be able to like fit in the company?\u001b[0m \u001b[5m\u001b[7m\u001b[36mI mean what do you think?\u001b[0m \u001b[5m\u001b[7m\u001b[36mWill you be able to fit into the company?\u001b[0m Yes sir Yeah, as per your own analysis, you said you're a good team player and what requirements you said for a good job in case you have those qualities I'm sure you will be able to fit into. \u001b[5m\u001b[7m\u001b[36mOkay, sir, thank you any more suggestions for me?\u001b[0m \u001b[5m\u001b[7m\u001b[36mNo nothing more adventure will finally give his remarks.\u001b[0m \u001b[5m\u001b[7m\u001b[36mThank you so much sir.\u001b[0m \u001b[5m\u001b[7m\u001b[36mAll the best right Gauri\u001b[0m Yes sir What is your basically the aim you want to go into software companies or anything more than that? \u001b[5m\u001b[7m\u001b[36mNo sir I want to go into software companies that is aim okay.\u001b[0m \u001b[5m\u001b[7m\u001b[36mYou don't want to go for any higher studies or entrepreneurship like.\u001b[0m \u001b[5m\u001b[7m\u001b[36mNo sir entrepreneurship No  but the highest studies many of the companies\u001b[0m \u001b[5m\u001b[7m\u001b[36mTcs also provide like conc simultaneously highest studies So that may also be a very good option.\u001b[0m \u001b[5m\u001b[7m\u001b[36mOkay for example you have got you have got the offer from Tcs\u001b[0m Or at the same time Meanwhile you're getting the better offer than Tcs from another organization which is not a tier one organization but tier two organization but the packages just develop what we are offering then what you will do? a sir I compare both the companies in terms of the defiantly I’ve told the tcs is the tier one and you've got the offer from tier two it means the startup or midsize company with the package for example, we are giving you four lakh they are giving you eight lakh in that case what do you do?  Sir I choose Tcs only because Tcs is like almost hundred and fifty years old company so it it has a very good job security. And as I cannot really trust a startup because they are new in the industry, and that's why there is there might be some trust issues so i At least salary does not matter for you ? Sir job security is more important than a salary if you will not perform well in the tcs also you can get the job insecurity in tcs also. Sir \u001b[5m\u001b[7m\u001b[36mbut I will perform good\u001b[0m \u001b[5m\u001b[7m\u001b[36mand I would like from my end there will be no complaints from Tcs.\u001b[0m Okay yeah \u001b[5m\u001b[7m\u001b[36mGauri Good afternoon sir Good afternoon ah which domain you feel comfortable?\u001b[0m \u001b[5m\u001b[7m\u001b[36mAh sir core subject subjects programming C++ , DBMS\u001b[0m Yes sir. \u001b[5m\u001b[7m\u001b[36mSo, give me a concept to implement snake and ladder.\u001b[0m \u001b[5m\u001b[7m\u001b[36mimplement Snakes and Ladders using any programming language?\u001b[0m \u001b[5m\u001b[7m\u001b[36mI want to know only concept not the implementation\u001b[0m \u001b[5m\u001b[7m\u001b[36mOkay I'm giving you the one minute Hmm  sir can I write something\u001b[0m  Yes yes \u001b[5m\u001b[7m\u001b[36mbut I need only logic right not the coding a code part.\u001b[0m Ok sir Hua Gauri Yes sir thoda thoda ah sir we can Verbaly btao to bus when I can analyze that you are going in the right direction or not. Okay sir ah so ah firstly a we will the will like a this for example of how how many columns are there for example, I take disk of fifty the maximum we take a fifty \u001b[5m\u001b[7m\u001b[36mand then now we take dice.\u001b[0m so a variable in which we will take a random function with the help of random function, we can derive a number between one to six and for the first for the first move, if the numbers random number is six, then we can move like we can keep a counter of the player. \u001b[5m\u001b[7m\u001b[36mso we can increase the counter with the numbers that comes in the dice.\u001b[0m And then now we can predefine the snakes for example, if at if we reach five then the the counter should like increased by 10 blocks. so the counter will increase by ten block That is the ladder and this way we can like pre define the next. My next is the how you will how you will determine whether to you have to increment its dice value means you you own to use it's increasing the counter value in form of ladder \u001b[5m\u001b[7m\u001b[36myes sir or you have to decrement the counter value in form of snake.\u001b[0m \u001b[5m\u001b[7m\u001b[36mso how you will determine it.\u001b[0m \u001b[5m\u001b[7m\u001b[36mSir with the help of functions.\u001b[0m For example, if the dice value for if if the dice value or the that block value in which the counter is right now is five so I have assigned five already that five is a ladder, so then it will increase and for example if 12 is a snake then I've already defined that at 12 you need to decrement the value by for example FIFO or whatever. \u001b[5m\u001b[7m\u001b[36mSo I will predefined where you will predefined these values?\u001b[0m So I can use a dictionary to like if I'm doing in Python then I can use it dictonary. If we are using C then and C++, Java there we doesn't have any dictionary Then sir we can ah we can use array of arrays and then like make dictionary with the help of arrays \u001b[5m\u001b[7m\u001b[36mOkay yes can we switch or not there?\u001b[0m switch yes hnn \u001b[5m\u001b[7m\u001b[36mbut so we can use\u001b[0m but it is too long like we will have to write the code many times in switch why many times we can define a in switch global or anywhere then we can use it cause switch for snake and switch for a ladder two separate switches we can use yes sir that we can ahh \u001b[5m\u001b[7m\u001b[36mso what do you mean by the encapsulation is Divyansh answer is correct.\u001b[0m \u001b[5m\u001b[7m\u001b[36mSir partially it is correct it is used for data hiding but more data security.\u001b[0m \u001b[5m\u001b[7m\u001b[36mSo aa in our class it is implemented using access modifiers like public protected private\u001b[0m \u001b[5m\u001b[7m\u001b[36mand there is a default access specifier as well.\u001b[0m So ahh using these we can a define the scope of the variables or the functions like if it is public then it can be used all through and if it is protected then only the subclasses can use it and if private then only the current class can use it. \u001b[5m\u001b[7m\u001b[36mWhat do you mean by storage classes ?\u001b[0m A storage classes sir im no able to recall ive a Okay gauri all the best Thankyou so much Explore more and more Tcs technical interview questions right? \u001b[5m\u001b[7m\u001b[36mOk sir They are basically mainly from C and C++.\u001b[0m Okay sir ill keep that in mind thankyou so much sir all the best thank you A from my side and rathor sir interview my remark for you definitely you are the good candidate that we have already observed many time ahh technical knowledge I have not checked out your head of department CAC will check it out but a you can easily correct the process. \u001b[5m\u001b[7m\u001b[36mOkay thank you so much sir\u001b[0m Or a when you are clear about your thought process then at least it should be justified when you are giving the interviews \u001b[5m\u001b[7m\u001b[36mYes sir sure it is very important ok sir if they feel that you want to come\u001b[0m \u001b[5m\u001b[7m\u001b[36mbut you can not come then then there is a chances they can drop you.\u001b[0m Either you are a good candidate or the best for example Google want to hire somebody or they find the candidate which is having the capabilities to get a caror package in a anom. But they have the doubt that no doubt is the best but they have the doubt that either he'll join or not. \u001b[5m\u001b[7m\u001b[36mthen might be they can drop so\u001b[0m \u001b[5m\u001b[7m\u001b[36myes that kind of condition in the interview at least shoud not be so case.\u001b[0m \u001b[5m\u001b[7m\u001b[36mOkay I'll keep that in mind sir thank you Otherwise all set all right ok\u001b[0m \u001b[5m\u001b[7m\u001b[36mThank you Thank you sir\u001b[0m\n"
     ]
    }
   ],
   "source": [
    "import termcolor\n",
    "string = text\n",
    "for s in insight_strings:\n",
    "    string = string.replace(s, termcolor.colored(s, \"cyan\", attrs = [\"reverse\", \"blink\"]))\n",
    "\n",
    "print(string)"
   ]
  },
  {
   "cell_type": "code",
   "execution_count": null,
   "metadata": {},
   "outputs": [],
   "source": []
  },
  {
   "cell_type": "markdown",
   "metadata": {},
   "source": [
    "TextRank algorithm"
   ]
  },
  {
   "cell_type": "code",
   "execution_count": 548,
   "metadata": {},
   "outputs": [
    {
     "name": "stderr",
     "output_type": "stream",
     "text": [
      "[nltk_data] Downloading package punkt to\n",
      "[nltk_data]     C:\\Users\\rautp\\AppData\\Roaming\\nltk_data...\n",
      "[nltk_data]   Package punkt is already up-to-date!\n"
     ]
    }
   ],
   "source": [
    "import numpy as np\n",
    "import pandas as pd\n",
    "import nltk\n",
    "nltk.download(\"punkt\")\n",
    "import re"
   ]
  },
  {
   "cell_type": "code",
   "execution_count": 541,
   "metadata": {},
   "outputs": [],
   "source": [
    "sentences = insight_strings"
   ]
  },
  {
   "cell_type": "code",
   "execution_count": 542,
   "metadata": {},
   "outputs": [
    {
     "name": "stdout",
     "output_type": "stream",
     "text": [
      "['Yes Gauri tell me tell me something about you', 'Okay ahh thank you for allowing me to introduce myself.', 'My name is Gauri shirmali.', \"I'm doing computer science engineering from Geetanjali Institute of technical studies.\", 'I secured 9.2 c GPA in 10, standard 73.4 Cgp ahh percentage in 12 standard.']\n"
     ]
    }
   ],
   "source": [
    "print(sentences[:5])"
   ]
  },
  {
   "cell_type": "code",
   "execution_count": 491,
   "metadata": {},
   "outputs": [],
   "source": [
    "# Extract word vectors\n",
    "word_embeddings = {}\n",
    "f = open('glove.6B.100d.txt', encoding='utf-8')\n",
    "for line in f:\n",
    "    values = line.split()\n",
    "    word = values[0]\n",
    "    coefs = np.asarray(values[1:], dtype='float32')\n",
    "    word_embeddings[word] = coefs\n",
    "f.close()"
   ]
  },
  {
   "cell_type": "code",
   "execution_count": 492,
   "metadata": {},
   "outputs": [
    {
     "data": {
      "text/plain": [
       "400000"
      ]
     },
     "execution_count": 492,
     "metadata": {},
     "output_type": "execute_result"
    }
   ],
   "source": [
    "len(word_embeddings)"
   ]
  },
  {
   "cell_type": "code",
   "execution_count": 544,
   "metadata": {},
   "outputs": [
    {
     "name": "stderr",
     "output_type": "stream",
     "text": [
      "<ipython-input-544-5a6874428032>:2: FutureWarning: The default value of regex will change from True to False in a future version.\n",
      "  clean_sentences = pd.Series(sentences).str.replace(\"[^a-zA-Z]\", \" \")\n"
     ]
    }
   ],
   "source": [
    "# Remove punctuations, numbers and special characters\n",
    "clean_sentences = pd.Series(sentences).str.replace(\"[^a-zA-Z]\", \" \")\n",
    "\n",
    "# Make alphabets lowercase\n",
    "clean_sentences = [s.lower() for s in clean_sentences]"
   ]
  },
  {
   "cell_type": "code",
   "execution_count": 549,
   "metadata": {},
   "outputs": [
    {
     "name": "stderr",
     "output_type": "stream",
     "text": [
      "[nltk_data] Downloading package stopwords to\n",
      "[nltk_data]     C:\\Users\\rautp\\AppData\\Roaming\\nltk_data...\n",
      "[nltk_data]   Package stopwords is already up-to-date!\n"
     ]
    },
    {
     "data": {
      "text/plain": [
       "True"
      ]
     },
     "execution_count": 549,
     "metadata": {},
     "output_type": "execute_result"
    }
   ],
   "source": [
    "nltk.download('stopwords')"
   ]
  },
  {
   "cell_type": "code",
   "execution_count": 550,
   "metadata": {},
   "outputs": [],
   "source": [
    "from nltk.corpus import stopwords\n",
    "stop_words = stopwords.words('english')"
   ]
  },
  {
   "cell_type": "code",
   "execution_count": 551,
   "metadata": {},
   "outputs": [],
   "source": [
    "# Function to remove stopwords\n",
    "def remove_stopwords(sen):\n",
    "    sen_new = \" \".join([i for i in sen if i not in stop_words])\n",
    "    return sen_new"
   ]
  },
  {
   "cell_type": "code",
   "execution_count": 552,
   "metadata": {},
   "outputs": [],
   "source": [
    "# Remove stopwords from the sentences\n",
    "clean_sentences = [remove_stopwords(r.split()) for r in clean_sentences]"
   ]
  },
  {
   "cell_type": "code",
   "execution_count": 553,
   "metadata": {},
   "outputs": [],
   "source": [
    "# Extract word vectors\n",
    "word_embeddings = {}\n",
    "f = open('glove.6B.100d.txt', encoding='utf-8')\n",
    "for line in f:\n",
    "    values = line.split()\n",
    "    word = values[0]\n",
    "    coefs = np.asarray(values[1:], dtype='float32')\n",
    "    word_embeddings[word] = coefs\n",
    "f.close()"
   ]
  },
  {
   "cell_type": "code",
   "execution_count": 554,
   "metadata": {},
   "outputs": [],
   "source": [
    "sentence_vectors = []\n",
    "for i in clean_sentences:\n",
    "    if len(i) != 0:\n",
    "        v = sum([word_embeddings.get(w, np.zeros((100,))) for w in i.split()])/(len(i.split())+0.001)\n",
    "    else:\n",
    "        v = np.zeros((100,))\n",
    "    sentence_vectors.append(v)"
   ]
  },
  {
   "cell_type": "code",
   "execution_count": 555,
   "metadata": {},
   "outputs": [],
   "source": [
    "# Similarity matrix\n",
    "sim_mat = np.zeros([len(sentences), len(sentences)])"
   ]
  },
  {
   "cell_type": "code",
   "execution_count": 556,
   "metadata": {},
   "outputs": [],
   "source": [
    "from sklearn.metrics.pairwise import cosine_similarity"
   ]
  },
  {
   "cell_type": "code",
   "execution_count": 557,
   "metadata": {},
   "outputs": [],
   "source": [
    "for i in range(len(sentences)):\n",
    "    for j in range(len(sentences)):\n",
    "        if i != j:\n",
    "            sim_mat[i][j] = cosine_similarity(sentence_vectors[i].reshape(1,100), sentence_vectors[j].reshape(1,100))[0,0]"
   ]
  },
  {
   "cell_type": "code",
   "execution_count": 558,
   "metadata": {},
   "outputs": [],
   "source": [
    "import networkx as nx\n",
    "\n",
    "nx_graph = nx.from_numpy_array(sim_mat)\n",
    "scores = nx.pagerank(nx_graph)"
   ]
  },
  {
   "cell_type": "code",
   "execution_count": 573,
   "metadata": {},
   "outputs": [],
   "source": [
    "ranked_sentences = sorted(((scores[i],s) for i,s in enumerate(sentences)))"
   ]
  },
  {
   "cell_type": "code",
   "execution_count": 574,
   "metadata": {},
   "outputs": [
    {
     "name": "stdout",
     "output_type": "stream",
     "text": [
      "0.004893704404786435 So I will predefined where you will predefined these values?\n",
      "0.007264886252295481 My name is Gauri shirmali.\n",
      "0.009313264243240187 Thank you Thank you sir\n",
      "0.009434148773875047 I secured 9.2 c GPA in 10, standard 73.4 Cgp ahh percentage in 12 standard.\n",
      "0.009739219587570805 I'm doing computer science engineering from Geetanjali Institute of technical studies.\n",
      "0.009795189881448842 Okay what are the ethical values Tcs have?\n",
      "0.010354696231479506 so how you will determine it.\n",
      "0.010386370208613317 So these all are my technical skills.\n",
      "0.010647376996660154 So I have interviewed for darnet, which is an depor only and I got selected for it.\n",
      "0.010677877943344648 And currently an engineering my aggregate score is 77 percentage.\n",
      "0.01068879070458671 So how does TCS fit into your requirement?\n",
      "0.010730196127670264 Okay, sir, thank you any more suggestions for me?\n",
      "0.010791040733316491 which are the major clients of TCS?\n",
      "0.010807534891371562 Okay ahh thank you for allowing me to introduce myself.\n",
      "0.010958708495807035 so how have you prepared for TCS interview now?\n",
      "0.011056279641645073 implement Snakes and Ladders using any programming language?\n",
      "0.011069083146890743 and then now we take dice.\n",
      "0.011163792113923938 I also interviewed for gateway industries.\n",
      "0.011171613754099226 Okay ahhh umm  Gauri tell me what are your future plans?\n",
      "0.011616159047527415 but I'm not aware of the clients.\n",
      "0.011669665093232053 and there is a default access specifier as well.\n",
      "0.011729720399515293 Okay yes can we switch or not there?\n",
      "0.011794640439090039 So that is the second point.\n",
      "0.011946060518996863 I've only given these interviews.\n",
      "0.011975253060694089 And lastly there as Tcs is has been in the industry for almost hundred and fifty years.\n",
      "0.011991215240050236 What do you mean by storage classes ?\n",
      "0.012022503368884746 but so we can use\n",
      "0.012026323480935006 Ok sir They are basically mainly from C and C++.\n",
      "0.012152290348179655 so what do you mean by the encapsulation is Divyansh answer is correct.\n",
      "0.012181789609308534 Ah sir core subject subjects programming C++ , DBMS\n",
      "0.012217517719461723 Thank you so much sir.\n",
      "0.01224708694916966 Yes Gauri tell me tell me something about you\n",
      "0.012315527107035162 Okay thank you so much sir\n",
      "0.012356391518459832 All the best right Gauri\n",
      "0.012467756987204958 So, give me a concept to implement snake and ladder.\n",
      "0.012489768956242878 Sir with the help of functions.\n",
      "0.012518023746142783 And currently I am one of the cultural heads of our students club,\n",
      "0.012523253298970917 And it so it's very good ethics overall.\n",
      "0.012617883278278388 then might be they can drop so\n",
      "0.012639687913417574 so we can increase the counter with the numbers that comes in the dice.\n",
      "0.012707977199335977 I am a team player and very optimistic in tough times\n",
      "0.012738055036010096 No sir entrepreneurship No  but the highest studies many of the companies\n",
      "0.012813791574803305 but you can not come then then there is a chances they can drop you.\n",
      "0.012815341175181731 yes sir or you have to decrement the counter value in form of snake.\n",
      "0.012855747246165497 Sir partially it is correct it is used for data hiding but more data security.\n",
      "0.012909438168019847 Sir my future plans sir if I join TCS or otherwise What are your future plans ?\n",
      "0.013023855055243071 What are the five specific point about Tcs which makes Tcs different from the other IT MNCs?\n",
      "0.013065554418575348 So aa in our class it is implemented using access modifiers like public protected private\n",
      "0.013075584196863088 Third point is the colleagues there hardraw very futuristic in their skills.\n",
      "0.013086201754360626 Okay technically what gives you job satisfaction?\n",
      "0.013103987298094253 Okay ah what do you think are the reasons for youngsters switching over jobs?\n",
      "0.013105367930369042 So there is a lot to learn from them.\n",
      "0.01312747579532718 Secondly, it has a work life balance.\n",
      "0.013185361200872258 Thankyou so much sir Good afternoon Good afternoon sir All prepare\n",
      "0.01320309160599184 I've also participated in smart India hackathons of which ahh in one we also got to the finals.\n",
      "0.013240929657235272 Okay sure anything that you want to ask?\n",
      "0.013243902255986867 but I need only logic right not the coding a code part.\n",
      "0.013294586122727808 Okay Have you analyzed Why you didn't get selected for gateway?\n",
      "0.013399238233253143 Gauri Good afternoon sir Good afternoon ah which domain you feel comfortable?\n",
      "0.013418731772629325 yes that kind of condition in the interview at least shoud not be so case.\n",
      "0.013431736802341832 but I will perform good\n",
      "0.013438065396147237 I mean what do you think?\n",
      "0.01347794038646193 Will you be able to fit into the company?\n",
      "0.013558316431680165 No nothing more adventure will finally give his remarks.\n",
      "0.013649800217277864 Okay Tell us which other campus interviews Have you appeared for and what has been the results?\n",
      "0.013702249212142205 So it gives me a sense of job security to some extent.\n",
      "0.013703318878542202 Okay for example you have got you have got the offer from Tcs\n",
      "0.013823691226997148 Okay I'm giving you the one minute Hmm  sir can I write something\n",
      "0.013876649124079583 Sir I want to join a software company and a work for it.\n",
      "0.013896476129177694 You don't want to go for any higher studies or entrepreneurship like.\n",
      "0.013931271396882869 and I would like from my end there will be no complaints from Tcs.\n",
      "0.013938708208439357 I want to know only concept not the implementation\n",
      "0.014000111701209189 Yes sir sure it is very important ok sir if they feel that you want to come\n",
      "0.014000209978051074 Okay I'll keep that in mind sir thank you Otherwise all set all right ok\n",
      "0.014006379971384047 Sir will I be able to like fit in the company?\n",
      "0.014143306250194713 And I want to a learn as much ah like as much languages and as much skills as I can\n",
      "0.014194414436244982 Sir in gateway I might have not answered the technical questions very well as compared to the other candidates.\n",
      "0.014265432842978659 So I think that I prepared quite well For Tcs.\n",
      "0.014268521887074488 and I also want to achieve great success so that I'm satisfied with what I've learned\n",
      "0.014351512243049674 No sir I want to go into software companies that is aim okay.\n",
      "0.014485377369174154 Tcs also provide like conc simultaneously highest studies So that may also be a very good option.\n"
     ]
    }
   ],
   "source": [
    "for x, y in ranked_sentences:\n",
    "    print(x, y)"
   ]
  },
  {
   "cell_type": "code",
   "execution_count": 575,
   "metadata": {},
   "outputs": [],
   "source": [
    "# Extract top 20 sentences (low scores)\n",
    "top20l = []\n",
    "for i in range(20):\n",
    "    top20l.append(ranked_sentences[i][1])"
   ]
  },
  {
   "cell_type": "code",
   "execution_count": 576,
   "metadata": {},
   "outputs": [],
   "source": [
    "ranked_sentences.sort(reverse = True)"
   ]
  },
  {
   "cell_type": "code",
   "execution_count": 578,
   "metadata": {},
   "outputs": [],
   "source": [
    "# Extract top 20 sentences (high scores)\n",
    "top20h = []\n",
    "for i in range(20):\n",
    "    top20h.append(ranked_sentences[i][1])"
   ]
  },
  {
   "cell_type": "code",
   "execution_count": 583,
   "metadata": {},
   "outputs": [],
   "source": [
    "top40 = top20l + top20h"
   ]
  },
  {
   "cell_type": "code",
   "execution_count": 584,
   "metadata": {},
   "outputs": [
    {
     "name": "stdout",
     "output_type": "stream",
     "text": [
      "['So I will predefined where you will predefined these values?', 'My name is Gauri shirmali.', 'Thank you Thank you sir', 'I secured 9.2 c GPA in 10, standard 73.4 Cgp ahh percentage in 12 standard.', \"I'm doing computer science engineering from Geetanjali Institute of technical studies.\", 'Okay what are the ethical values Tcs have?', 'so how you will determine it.', 'So these all are my technical skills.', 'So I have interviewed for darnet, which is an depor only and I got selected for it.', 'And currently an engineering my aggregate score is 77 percentage.', 'So how does TCS fit into your requirement?', 'Okay, sir, thank you any more suggestions for me?', 'which are the major clients of TCS?', 'Okay ahh thank you for allowing me to introduce myself.', 'so how have you prepared for TCS interview now?', 'implement Snakes and Ladders using any programming language?', 'and then now we take dice.', 'I also interviewed for gateway industries.', 'Okay ahhh umm  Gauri tell me what are your future plans?', \"but I'm not aware of the clients.\", 'Tcs also provide like conc simultaneously highest studies So that may also be a very good option.', 'No sir I want to go into software companies that is aim okay.', \"and I also want to achieve great success so that I'm satisfied with what I've learned\", 'So I think that I prepared quite well For Tcs.', 'Sir in gateway I might have not answered the technical questions very well as compared to the other candidates.', 'And I want to a learn as much ah like as much languages and as much skills as I can', 'Sir will I be able to like fit in the company?', \"Okay I'll keep that in mind sir thank you Otherwise all set all right ok\", 'Yes sir sure it is very important ok sir if they feel that you want to come', 'I want to know only concept not the implementation', 'and I would like from my end there will be no complaints from Tcs.', \"You don't want to go for any higher studies or entrepreneurship like.\", 'Sir I want to join a software company and a work for it.', \"Okay I'm giving you the one minute Hmm  sir can I write something\", 'Okay for example you have got you have got the offer from Tcs', 'So it gives me a sense of job security to some extent.', 'Okay Tell us which other campus interviews Have you appeared for and what has been the results?', 'No nothing more adventure will finally give his remarks.', 'Will you be able to fit into the company?', 'I mean what do you think?']\n"
     ]
    }
   ],
   "source": [
    "print(top40)"
   ]
  },
  {
   "cell_type": "code",
   "execution_count": 585,
   "metadata": {},
   "outputs": [
    {
     "name": "stdout",
     "output_type": "stream",
     "text": [
      "Yes Gauri tell me tell me something about you \u001b[5m\u001b[7m\u001b[36mOkay ahh thank you for allowing me to introduce myself.\u001b[0m \u001b[5m\u001b[7m\u001b[36mMy name is Gauri shirmali.\u001b[0m I am from Udaipur Rajasthan. \u001b[5m\u001b[7m\u001b[36mI'm doing computer science engineering from Geetanjali Institute of technical studies.\u001b[0m \u001b[5m\u001b[7m\u001b[36mI secured 9.2 c GPA in 10, standard 73.4 Cgp ahh percentage in 12 standard.\u001b[0m \u001b[5m\u001b[7m\u001b[36mAnd currently an engineering my aggregate score is 77 percentage.\u001b[0m computer sciences is omnipresent that is it is present in every field and hence I have invested these last 3.5 almost years and a developing my software skills My technical skills include programming in Python, Java, C, c++, databases I am also familiar with web development, Kubernetes, Docker, Ansible, et cetera. \u001b[5m\u001b[7m\u001b[36mSo these all are my technical skills.\u001b[0m And I’ve  also used this skills to build several projects, which include user management project and attendance management project. I've also participated in smart India hackathons of which ahh in one we also got to the finals. Ahh these are my technical skills, coming to my extracurricular activities I love to dance umm particularly semi classical dance. I also like to read write and paint have been the student editor of our colleges newsletter bits and bytes. And currently I am one of the cultural heads of our students club, So I've I have also participated in several donation camps several donation camps as I am a  a member of the Rotary Club Udaipur, I consider myself as a very focused person, I’ve  and I always work towards my goals and in a very efficient manner. I am a team player and very optimistic in tough times And lastly I would like to say that why not start the journey of my success by the success of joining TCS Thank you so much. Okay ahh What are the five specific point about Tcs which makes Tcs different from the other IT MNCs? Sure firstly sir ahh tcs is has a brand name, it is known it is a multinational company and it has a very good brand name and thus it would give me a good start for my career. Secondly, it has a work life balance. I have talked to many of my friends who are in Tcs and they say that Tcs gives a very good work life balance. So that is the second point. Third point is the colleagues there hardraw very futuristic in their skills. So there is a lot to learn from them. Fourthly, as Tcs is a multinational company, I would like to I would have the chance to even uhh go abroad and a meet a people of different nationalities. And lastly there as Tcs is has been in the industry for almost hundred and fifty years. \u001b[5m\u001b[7m\u001b[36mSo it gives me a sense of job security to some extent.\u001b[0m \u001b[5m\u001b[7m\u001b[36mOkay what are the ethical values Tcs have?\u001b[0m sir like I said there is a work life balance and it a it it promotes like gender equality ,there is no like discrimination on the basis of that. And it so it's very good ethics overall. Okay okay Gauri nice talking to you , thankyou sir , and  I request kernel rathor sir to take next part of interview Right. Thankyou so much sir Good afternoon Good afternoon sir All prepare Yes sir \u001b[5m\u001b[7m\u001b[36mOkay Tell us which other campus interviews Have you appeared for and what has been the results?\u001b[0m \u001b[5m\u001b[7m\u001b[36mSo I have interviewed for darnet, which is an depor only and I got selected for it.\u001b[0m \u001b[5m\u001b[7m\u001b[36mI also interviewed for gateway industries.\u001b[0m I was not selected in the interview I got to the interview part but was not selected So that's it. I've only given these interviews. Okay Have you analyzed Why you didn't get selected for gateway? \u001b[5m\u001b[7m\u001b[36mSir in gateway I might have not answered the technical questions very well as compared to the other candidates.\u001b[0m Okay \u001b[5m\u001b[7m\u001b[36mso how have you prepared for TCS interview now?\u001b[0m Sir I have an enhanced my technical skills I have been preparing for the core subjects, and I've been doing coding almost every day \u001b[5m\u001b[7m\u001b[36mSo I think that I prepared quite well For Tcs.\u001b[0m \u001b[5m\u001b[7m\u001b[36mOkay ahhh umm  Gauri tell me what are your future plans?\u001b[0m Sir my future plans sir if I join TCS or otherwise What are your future plans ? \u001b[5m\u001b[7m\u001b[36mSir I want to join a software company and a work for it.\u001b[0m \u001b[5m\u001b[7m\u001b[36mAnd I want to a learn as much ah like as much languages and as much skills as I can\u001b[0m \u001b[5m\u001b[7m\u001b[36mand I also want to achieve great success so that I'm satisfied with what I've learned\u001b[0m Okay ah what do you think are the reasons for youngsters switching over jobs? Sir maybe it is job satisfaction because they enter a company without a a seeing the background of the company and then they later find out that the company was not suitable for them. Okay. That's for you, what are the three important things ah that ah one should consider before joining any organization as a fresher? So firstly the one should look if there is a lot to learn from the company, I mean, there should be a very steep like growing curve in the company. Secondly, they should be like the colleagues and everything should be very frank so that they help you in every way and thirdly  for me there should be a brand name so that there is a satisfaction that yes I have achieved a level and now I can go to the next level. Okay technically what gives you job satisfaction? Sir technically the latest I want to go with latest technical skills, like not obsolete technologies, but the latest technologies. \u001b[5m\u001b[7m\u001b[36mSo how does TCS fit into your requirement?\u001b[0m Sir tcs changes with technologies according to the needs of the people of the or so there is not a there is no fixed technology that they use they use according to the clients which is very well. \u001b[5m\u001b[7m\u001b[36mwhich are the major clients of TCS?\u001b[0m Can you name three or four of them? I'm sorry sir \u001b[5m\u001b[7m\u001b[36mbut I'm not aware of the clients.\u001b[0m Okay sure anything that you want to ask? \u001b[5m\u001b[7m\u001b[36mSir will I be able to like fit in the company?\u001b[0m \u001b[5m\u001b[7m\u001b[36mI mean what do you think?\u001b[0m \u001b[5m\u001b[7m\u001b[36mWill you be able to fit into the company?\u001b[0m Yes sir Yeah, as per your own analysis, you said you're a good team player and what requirements you said for a good job in case you have those qualities I'm sure you will be able to fit into. \u001b[5m\u001b[7m\u001b[36mOkay, sir, thank you any more suggestions for me?\u001b[0m \u001b[5m\u001b[7m\u001b[36mNo nothing more adventure will finally give his remarks.\u001b[0m Thank you so much sir. All the best right Gauri Yes sir What is your basically the aim you want to go into software companies or anything more than that? \u001b[5m\u001b[7m\u001b[36mNo sir I want to go into software companies that is aim okay.\u001b[0m \u001b[5m\u001b[7m\u001b[36mYou don't want to go for any higher studies or entrepreneurship like.\u001b[0m No sir entrepreneurship No  but the highest studies many of the companies \u001b[5m\u001b[7m\u001b[36mTcs also provide like conc simultaneously highest studies So that may also be a very good option.\u001b[0m \u001b[5m\u001b[7m\u001b[36mOkay for example you have got you have got the offer from Tcs\u001b[0m Or at the same time Meanwhile you're getting the better offer than Tcs from another organization which is not a tier one organization but tier two organization but the packages just develop what we are offering then what you will do? a sir I compare both the companies in terms of the defiantly I’ve told the tcs is the tier one and you've got the offer from tier two it means the startup or midsize company with the package for example, we are giving you four lakh they are giving you eight lakh in that case what do you do?  Sir I choose Tcs only because Tcs is like almost hundred and fifty years old company so it it has a very good job security. And as I cannot really trust a startup because they are new in the industry, and that's why there is there might be some trust issues so i At least salary does not matter for you ? Sir job security is more important than a salary if you will not perform well in the tcs also you can get the job insecurity in tcs also. Sir but I will perform good \u001b[5m\u001b[7m\u001b[36mand I would like from my end there will be no complaints from Tcs.\u001b[0m Okay yeah Gauri Good afternoon sir Good afternoon ah which domain you feel comfortable? Ah sir core subject subjects programming C++ , DBMS Yes sir. So, give me a concept to implement snake and ladder. \u001b[5m\u001b[7m\u001b[36mimplement Snakes and Ladders using any programming language?\u001b[0m \u001b[5m\u001b[7m\u001b[36mI want to know only concept not the implementation\u001b[0m \u001b[5m\u001b[7m\u001b[36mOkay I'm giving you the one minute Hmm  sir can I write something\u001b[0m  Yes yes but I need only logic right not the coding a code part. Ok sir Hua Gauri Yes sir thoda thoda ah sir we can Verbaly btao to bus when I can analyze that you are going in the right direction or not. Okay sir ah so ah firstly a we will the will like a this for example of how how many columns are there for example, I take disk of fifty the maximum we take a fifty \u001b[5m\u001b[7m\u001b[36mand then now we take dice.\u001b[0m so a variable in which we will take a random function with the help of random function, we can derive a number between one to six and for the first for the first move, if the numbers random number is six, then we can move like we can keep a counter of the player. so we can increase the counter with the numbers that comes in the dice. And then now we can predefine the snakes for example, if at if we reach five then the the counter should like increased by 10 blocks. so the counter will increase by ten block That is the ladder and this way we can like pre define the next. My next is the how you will how you will determine whether to you have to increment its dice value means you you own to use it's increasing the counter value in form of ladder yes sir or you have to decrement the counter value in form of snake. \u001b[5m\u001b[7m\u001b[36mso how you will determine it.\u001b[0m Sir with the help of functions. For example, if the dice value for if if the dice value or the that block value in which the counter is right now is five so I have assigned five already that five is a ladder, so then it will increase and for example if 12 is a snake then I've already defined that at 12 you need to decrement the value by for example FIFO or whatever. \u001b[5m\u001b[7m\u001b[36mSo I will predefined where you will predefined these values?\u001b[0m So I can use a dictionary to like if I'm doing in Python then I can use it dictonary. If we are using C then and C++, Java there we doesn't have any dictionary Then sir we can ah we can use array of arrays and then like make dictionary with the help of arrays Okay yes can we switch or not there? switch yes hnn but so we can use but it is too long like we will have to write the code many times in switch why many times we can define a in switch global or anywhere then we can use it cause switch for snake and switch for a ladder two separate switches we can use yes sir that we can ahh so what do you mean by the encapsulation is Divyansh answer is correct. Sir partially it is correct it is used for data hiding but more data security. So aa in our class it is implemented using access modifiers like public protected private and there is a default access specifier as well. So ahh using these we can a define the scope of the variables or the functions like if it is public then it can be used all through and if it is protected then only the subclasses can use it and if private then only the current class can use it. What do you mean by storage classes ? A storage classes sir im no able to recall ive a Okay gauri all the best Thankyou so much Explore more and more Tcs technical interview questions right? Ok sir They are basically mainly from C and C++. Okay sir ill keep that in mind thankyou so much sir all the best thank you A from my side and rathor sir interview my remark for you definitely you are the good candidate that we have already observed many time ahh technical knowledge I have not checked out your head of department CAC will check it out but a you can easily correct the process. Okay thank you so much sir Or a when you are clear about your thought process then at least it should be justified when you are giving the interviews \u001b[5m\u001b[7m\u001b[36mYes sir sure it is very important ok sir if they feel that you want to come\u001b[0m but you can not come then then there is a chances they can drop you. Either you are a good candidate or the best for example Google want to hire somebody or they find the candidate which is having the capabilities to get a caror package in a anom. But they have the doubt that no doubt is the best but they have the doubt that either he'll join or not. then might be they can drop so yes that kind of condition in the interview at least shoud not be so case. \u001b[5m\u001b[7m\u001b[36mOkay I'll keep that in mind sir thank you Otherwise all set all right ok\u001b[0m \u001b[5m\u001b[7m\u001b[36mThank you Thank you sir\u001b[0m\n"
     ]
    }
   ],
   "source": [
    "import termcolor\n",
    "string = text\n",
    "for s in top40:\n",
    "    string = string.replace(s, termcolor.colored(s, \"cyan\", attrs = [\"reverse\", \"blink\"]))\n",
    "\n",
    "print(string)"
   ]
  },
  {
   "cell_type": "code",
   "execution_count": null,
   "metadata": {},
   "outputs": [],
   "source": []
  }
 ],
 "metadata": {
  "kernelspec": {
   "display_name": "Python 3",
   "language": "python",
   "name": "python3"
  },
  "language_info": {
   "codemirror_mode": {
    "name": "ipython",
    "version": 3
   },
   "file_extension": ".py",
   "mimetype": "text/x-python",
   "name": "python",
   "nbconvert_exporter": "python",
   "pygments_lexer": "ipython3",
   "version": "3.8.3"
  }
 },
 "nbformat": 4,
 "nbformat_minor": 4
}
